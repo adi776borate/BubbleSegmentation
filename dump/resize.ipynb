{
 "cells": [
  {
   "cell_type": "code",
   "execution_count": 1,
   "id": "46db3266",
   "metadata": {},
   "outputs": [
    {
     "data": {
      "image/png": "[encoded data removed]",
      "text/plain": [
       "<Figure size 640x480 with 1 Axes>"
      ]
     },
     "metadata": {},
     "output_type": "display_data"
    }
   ],
   "source": [
    "from PIL import Image\n",
    "import matplotlib.pyplot as plt\n",
    "from PIL import Image, ImageOps\n",
    "import torchvision.transforms.functional as TF\n",
    "\n",
    "path = r'/teamspace/studios/this_studio/BubbleSegmentation/Data/Label_Test_2023April7/t3Label100_738983_3.png'  \n",
    "img = Image.open(path)\n",
    "\n",
    "img = img.convert('L')  # Grayscale, 1-channel\n",
    "plt.imshow(img, cmap='gray')\n",
    "plt.axis('off')\n",
    "plt.show()\n"
   ]
  },
  {
   "cell_type": "code",
   "execution_count": 29,
   "id": "16446a49",
   "metadata": {},
   "outputs": [
    {
     "data": {
      "text/plain": [
       "(1024, 256)"
      ]
     },
     "execution_count": 29,
     "metadata": {},
     "output_type": "execute_result"
    }
   ],
   "source": [
    "img.size"
   ]
  },
  {
   "cell_type": "code",
   "execution_count": 7,
   "id": "65ba4daf",
   "metadata": {},
   "outputs": [
    {
     "name": "stdout",
     "output_type": "stream",
     "text": [
      "img ablation area: 188.42000000000002\n",
      "img ablation area: 194.25\n"
     ]
    }
   ],
   "source": [
    "def compute_area(mask):\n",
    "    return (mask == 1).sum().item()\n",
    "\n",
    "img_tensor = TF.to_tensor(img)  \n",
    "binary_mask = (img_tensor > 0.5).long()  # 0.5 threshold works for [0,1] float images\n",
    "\n",
    "print(\"img ablation area:\", compute_area(img_tensor)*0.0025)\n",
    "print(\"img ablation area:\", compute_area(binary_mask)*0.0025)"
   ]
  },
  {
   "cell_type": "code",
   "execution_count": 4,
   "id": "bddaf695",
   "metadata": {},
   "outputs": [
    {
     "name": "stdout",
     "output_type": "stream",
     "text": [
      "tensor([0, 1])\n"
     ]
    }
   ],
   "source": [
    "import torch\n",
    "print(torch.unique(binary_mask))"
   ]
  },
  {
   "cell_type": "code",
   "execution_count": 5,
   "id": "52809ed7",
   "metadata": {},
   "outputs": [
    {
     "data": {
      "image/png": "[encoded data removed]",
      "text/plain": [
       "<Figure size 640x480 with 1 Axes>"
      ]
     },
     "metadata": {},
     "output_type": "display_data"
    }
   ],
   "source": [
    "pred_path = r'/teamspace/studios/this_studio/BubbleSegmentation/code_files/test_results/TorchvisionDeepLabV3_DiceFocalWithPulsePriorLoss_Dice0.55_Tversky0.5_Focal0.55_Epochs10_LR0.0003/only_predictions/t3Label100_738983_3.png'\n",
    "pred = Image.open(pred_path)\n",
    "pred = pred.convert('L')  # Grayscale, 1-channel\n",
    "plt.imshow(pred, cmap='gray')\n",
    "plt.axis('off')\n",
    "plt.show()"
   ]
  },
  {
   "cell_type": "code",
   "execution_count": 6,
   "id": "4a85aca5",
   "metadata": {},
   "outputs": [
    {
     "name": "stdout",
     "output_type": "stream",
     "text": [
      "pred ablation area: 69.35000000000001\n"
     ]
    }
   ],
   "source": [
    "\n",
    "pred_tensor = TF.to_tensor(pred)\n",
    "\n",
    "print(\"pred ablation area:\", compute_area(pred_tensor)*0.0025)"
   ]
  },
  {
   "cell_type": "code",
   "execution_count": null,
   "id": "bebbe76e",
   "metadata": {},
   "outputs": [],
   "source": []
  }
 ],
 "metadata": {
  "kernelspec": {
   "display_name": "base",
   "language": "python",
   "name": "python3"
  },
  "language_info": {
   "codemirror_mode": {
    "name": "ipython",
    "version": 3
   },
   "file_extension": ".py",
   "mimetype": "text/x-python",
   "name": "python",
   "nbconvert_exporter": "python",
   "pygments_lexer": "ipython3",
   "version": "3.11.7"
  }
 },
 "nbformat": 4,
 "nbformat_minor": 5
}
